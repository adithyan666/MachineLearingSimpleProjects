{
 "cells": [
  {
   "cell_type": "markdown",
   "metadata": {},
   "source": [
    "cold day are 0 and hot day are 1\n",
    "first day is 80% being cold\n",
    "cold day have 30% chance of being followed by hot day\n",
    "hot day have 20% chance of being followed by cold day\n",
    "on each day temp is distributed as mean and standard deviation betweeen 0 and 5 on the cold day and mean and standard deviation 15 and 10 on hot day"
   ]
  },
  {
   "cell_type": "code",
   "execution_count": 1,
   "metadata": {},
   "outputs": [],
   "source": [
    "import tensorflow_probability as tfp\n",
    "import tensorflow as tf"
   ]
  },
  {
   "cell_type": "code",
   "execution_count": 3,
   "metadata": {},
   "outputs": [],
   "source": [
    "tfd = tfp.distributions\n",
    "initial_dis = tfd.Categorical(probs=[0.8,0.2])\n",
    "transition_dis = tfd.Categorical(probs=[[0.7,0.3],[0.2,0.8]])\n",
    "observation_dis = tfd.Normal(loc=[0.,15.],scale=[5.,10.])\n",
    "\n"
   ]
  },
  {
   "cell_type": "code",
   "execution_count": 5,
   "metadata": {},
   "outputs": [],
   "source": [
    "model=tfd.HiddenMarkovModel(initial_distribution=initial_dis,\n",
    "                                transition_distribution=transition_dis,\n",
    "                                observation_distribution=observation_dis,\n",
    "                                num_steps=7)"
   ]
  },
  {
   "cell_type": "code",
   "execution_count": 9,
   "metadata": {},
   "outputs": [
    {
     "name": "stdout",
     "output_type": "stream",
     "text": [
      "[3.        5.9999995 7.4999995 8.25      8.625001  8.812501  8.90625  ]\n"
     ]
    }
   ],
   "source": [
    "mean = model.mean()\n",
    "print(mean.numpy())"
   ]
  }
 ],
 "metadata": {
  "kernelspec": {
   "display_name": "Python 3",
   "language": "python",
   "name": "python3"
  },
  "language_info": {
   "codemirror_mode": {
    "name": "ipython",
    "version": 3
   },
   "file_extension": ".py",
   "mimetype": "text/x-python",
   "name": "python",
   "nbconvert_exporter": "python",
   "pygments_lexer": "ipython3",
   "version": "3.12.0"
  }
 },
 "nbformat": 4,
 "nbformat_minor": 2
}
